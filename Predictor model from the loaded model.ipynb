{
  "nbformat": 4,
  "nbformat_minor": 0,
  "metadata": {
    "colab": {
      "provenance": []
    },
    "kernelspec": {
      "name": "python3",
      "display_name": "Python 3"
    },
    "language_info": {
      "name": "python"
    }
  },
  "cells": [
    {
      "cell_type": "code",
      "execution_count": 2,
      "metadata": {
        "colab": {
          "base_uri": "https://localhost:8080/"
        },
        "id": "SCSJHBjk6o8t",
        "outputId": "0e2a022d-91ea-4ba0-ff22-e28999984116"
      },
      "outputs": [
        {
          "output_type": "stream",
          "name": "stderr",
          "text": [
            "/usr/local/lib/python3.10/dist-packages/keras/src/saving/saving_lib.py:576: UserWarning: Skipping variable loading for optimizer 'rmsprop', because it has 14 variables whereas the saved optimizer has 26 variables. \n",
            "  saveable.load_own_variables(weights_store.get(inner_path))\n"
          ]
        }
      ],
      "source": [
        "from tensorflow.keras.models import load_model\n",
        "model = load_model('fruit_freshness_model.keras')\n",
        "\n",
        "\n"
      ]
    },
    {
      "cell_type": "code",
      "source": [
        "import numpy as np\n",
        "from keras.preprocessing import image\n",
        "test_image = image.load_img('/path to your input', target_size = (64, 64))\n",
        "test_image = image.img_to_array(test_image)\n",
        "test_image = np.expand_dims(test_image, axis = 0)\n",
        "test_image = test_image / 255.0\n",
        "result = model.predict(test_image)\n",
        "fresh_rotten_pairs = {\n",
        "    'apple': (0, 3),\n",
        "    'banana': (1, 4),\n",
        "    'orange': (2, 5)\n",
        "}\n",
        "predicted_class = np.argmax(result)\n",
        "for fruit, (fresh_idx, rotten_idx) in fresh_rotten_pairs.items():\n",
        "    fresh_prob = result[0][fresh_idx]\n",
        "    rotten_prob = result[0][rotten_idx]\n",
        "    if predicted_class == fresh_idx or predicted_class == rotten_idx:\n",
        "        freshness_index = fresh_prob / (fresh_prob + rotten_prob + 1e-8)\n",
        "        freshness_status = \"Fresh\" if predicted_class == fresh_idx else \"Rotten\"\n",
        "        print(f\"The predicted fruit is a {fruit} and it is {freshness_status}.\")\n",
        "        print(f\"Freshness index for {fruit}: {freshness_index:.8f}\")\n",
        "        break"
      ],
      "metadata": {
        "colab": {
          "base_uri": "https://localhost:8080/"
        },
        "id": "5iXTUl-n8SLS",
        "outputId": "f245137d-a153-49ad-86af-9b20dbbaf2a2"
      },
      "execution_count": 12,
      "outputs": [
        {
          "output_type": "stream",
          "name": "stdout",
          "text": [
            "\u001b[1m1/1\u001b[0m \u001b[32m━━━━━━━━━━━━━━━━━━━━\u001b[0m\u001b[37m\u001b[0m \u001b[1m0s\u001b[0m 151ms/step\n",
            "The predicted fruit is a banana and it is Fresh.\n",
            "Freshness index for banana: 0.99999999\n"
          ]
        }
      ]
    },
    {
      "cell_type": "code",
      "source": [],
      "metadata": {
        "id": "MnmErv3B_aAR"
      },
      "execution_count": null,
      "outputs": []
    }
  ]
}